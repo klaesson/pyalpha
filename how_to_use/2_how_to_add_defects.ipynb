{
 "cells": [
  {
   "cell_type": "markdown",
   "id": "fcd6987e",
   "metadata": {},
   "source": [
    "# Positioning errors in the wire material"
   ]
  },
  {
   "cell_type": "raw",
   "id": "075c668e",
   "metadata": {},
   "source": [
    "This notebook explains how to use the module funcs to add defects to the simulation of a 2D lattice. We will use the same geometry and setup as in the first notebook, but this time with defects added to the wire material.\n",
    "\n",
    "The imports that we will use are"
   ]
  },
  {
   "cell_type": "code",
   "execution_count": 18,
   "id": "3e4fe39d",
   "metadata": {},
   "outputs": [],
   "source": [
    "import sys\n",
    "sys.path.insert(0, \"../simulations/\")\n",
    "import meep as mp\n",
    "import numpy as np\n",
    "import matplotlib.pyplot as plt\n",
    "import time\n",
    "import funcs as fu"
   ]
  },
  {
   "cell_type": "markdown",
   "id": "47c93983",
   "metadata": {},
   "source": [
    "## Setup of the geometry, sources and mode solver\n",
    "\n",
    "We start by using the same setup as in the previous notebook."
   ]
  },
  {
   "cell_type": "code",
   "execution_count": 19,
   "id": "cadbeb21",
   "metadata": {},
   "outputs": [],
   "source": [
    "P = {\n",
    "    \"meep_unit\": 1e-3,\n",
    "    \"resolution\": 8,\n",
    "    \"wire_shape\": \"round\",\n",
    "    \"wire_size\": 2.,\n",
    "    \"wire_spacing_x\": 10.,\n",
    "    \"wire_spacing_y\": 10.,\n",
    "    \"wire_number_x\": 5,\n",
    "    \"wire_number_y\": 5,\n",
    "    \"boundary_condition\": \"PEC\",\n",
    "    \"solver\": \"TD_harminv\",\n",
    "    \"until_after_sources\": 200\n",
    "    }\n",
    "\n",
    "P[\"wire_material\"] = mp.metal\n",
    "P[\"walls_to_wires_x\"] = 0.5*P[\"wire_spacing_x\"]\n",
    "P[\"walls_to_wires_y\"] = 0.5*P[\"wire_spacing_y\"]\n",
    "P[\"source_frequency\"] = 0.9*fu.TM_nm0_WM_2D(**P)\n",
    "P[\"source_frequency_width\"] = 1.9*((fu.TM_nm0_WM_2D(1, 2, **P)\n",
    "                                    - fu.TM_nm0_WM_2D(**P)))\n",
    "P[\"walls_width\"] = 0.\n",
    "P[\"walls_material\"] = mp.air\n",
    "P[\"absorber_width\"] = 0.\n",
    "P[\"absorber_layers\"] = [mp.Absorber(P[\"absorber_width\"])]\n",
    "\n",
    "P[\"cell_size\"] = fu.cell_size_2D_wire_grid(**P)\n",
    "P[\"directory\"] = \"out\""
   ]
  },
  {
   "cell_type": "markdown",
   "id": "40d160a6",
   "metadata": {},
   "source": [
    "## How to set up defects in the wire material\n",
    "\n",
    "You can introduce different types of positioning errors in the wire material, they are added as shifts from the ideal grid by feeding func with the array `P[\"defects\"]`. It contains two elements per wire, one element for the x-component and the other with the y-component of the displacement. So if you are simulating a $5\\times 5 $ grid, then `P[\"defects\"].shape()` should be $(5, 5, 2).$\n",
    "\n",
    "\n",
    "To start adding defects, set \"get_defects\" to True."
   ]
  },
  {
   "cell_type": "code",
   "execution_count": 20,
   "id": "e6dc5cad",
   "metadata": {},
   "outputs": [],
   "source": [
    "P[\"get_defects\"] = True"
   ]
  },
  {
   "cell_type": "markdown",
   "id": "928ea128",
   "metadata": {},
   "source": [
    "Then there are four different types of defects that you can use:\n",
    "\n",
    "- \"single_wire\"\n",
    "- \"single_plane\"\n",
    "- \"all_random\"\n",
    "- \"misaligned_planes\"\n",
    "\n",
    "\n",
    "### How to setup single-wire defects\n",
    "\n",
    "Select the type of the defect, specify its size and along which axis to shift the position of the wire."
   ]
  },
  {
   "cell_type": "code",
   "execution_count": 21,
   "id": "572cd9cb",
   "metadata": {},
   "outputs": [],
   "source": [
    "P[\"defects_type\"] = \"single_wire\"\n",
    "P[\"defects_axis\"] = \"x\" # \"y\" or \"xy\"\n",
    "P[\"defects_size\"] = 0.5*P[\"wire_spacing_x\"]"
   ]
  },
  {
   "cell_type": "markdown",
   "id": "e30f5c40",
   "metadata": {},
   "source": [
    "You control which wire to shift through the key \"defects_position\". For a single-wire defect, this should be a list of length 2. The first element refers to the column and the second to the row. Starting from the lower left corner of the grid.\n",
    "\n",
    "For example choose a wire in column 1, row 0. Then get the defects array and take a look at the geometry. The point where Harminv sampels is only chosen automatically for grids with out defects, so remember to check that specifically."
   ]
  },
  {
   "cell_type": "code",
   "execution_count": 22,
   "id": "3fb632f9",
   "metadata": {},
   "outputs": [
    {
     "name": "stdout",
     "output_type": "stream",
     "text": [
      "-----------\n",
      "Initializing structure...\n",
      "time for choose_chunkdivision = 0.000133038 s\n",
      "Working in 2D dimensions.\n",
      "Computational cell is 50 x 50 x 0 with resolution 8\n",
      "     cylinder, center = (-20,-20,0)\n",
      "          radius 1, height 1e+20, axis (0, 0, 1)\n",
      "          dielectric constant epsilon diagonal = (-1e+20,-1e+20,-1e+20)\n",
      "     cylinder, center = (-20,-10,0)\n",
      "          radius 1, height 1e+20, axis (0, 0, 1)\n",
      "          dielectric constant epsilon diagonal = (-1e+20,-1e+20,-1e+20)\n",
      "     cylinder, center = (-20,0,0)\n",
      "          radius 1, height 1e+20, axis (0, 0, 1)\n",
      "          dielectric constant epsilon diagonal = (-1e+20,-1e+20,-1e+20)\n",
      "     cylinder, center = (-20,10,0)\n",
      "          radius 1, height 1e+20, axis (0, 0, 1)\n",
      "          dielectric constant epsilon diagonal = (-1e+20,-1e+20,-1e+20)\n",
      "     cylinder, center = (-20,20,0)\n",
      "          radius 1, height 1e+20, axis (0, 0, 1)\n",
      "          dielectric constant epsilon diagonal = (-1e+20,-1e+20,-1e+20)\n",
      "     cylinder, center = (-5,-20,0)\n",
      "          radius 1, height 1e+20, axis (0, 0, 1)\n",
      "          dielectric constant epsilon diagonal = (-1e+20,-1e+20,-1e+20)\n",
      "     cylinder, center = (-10,-10,0)\n",
      "          radius 1, height 1e+20, axis (0, 0, 1)\n",
      "          dielectric constant epsilon diagonal = (-1e+20,-1e+20,-1e+20)\n",
      "     cylinder, center = (-10,0,0)\n",
      "          radius 1, height 1e+20, axis (0, 0, 1)\n",
      "          dielectric constant epsilon diagonal = (-1e+20,-1e+20,-1e+20)\n",
      "     cylinder, center = (-10,10,0)\n",
      "          radius 1, height 1e+20, axis (0, 0, 1)\n",
      "          dielectric constant epsilon diagonal = (-1e+20,-1e+20,-1e+20)\n",
      "     cylinder, center = (-10,20,0)\n",
      "          radius 1, height 1e+20, axis (0, 0, 1)\n",
      "          dielectric constant epsilon diagonal = (-1e+20,-1e+20,-1e+20)\n",
      "     ...(+ 15 objects not shown)...\n",
      "time for set_epsilon = 0.27345 s\n",
      "-----------\n",
      "Meep: using output directory 'out'\n"
     ]
    },
    {
     "data": {
      "image/png": "[encoded data removed]",
      "text/plain": [
       "<Figure size 432x288 with 1 Axes>"
      ]
     },
     "metadata": {
      "needs_background": "light"
     },
     "output_type": "display_data"
    }
   ],
   "source": [
    "P[\"defects_position\"] = [1, 0]\n",
    "P[\"defects\"] = fu.get_defects(**P)\n",
    "\n",
    "fu.get_plot_geometry_and_harminv_sampling(**P)"
   ]
  },
  {
   "cell_type": "markdown",
   "id": "5a3ee2e4",
   "metadata": {},
   "source": [
    "There is also a helper function that you can later use in the script lattice_2D_delta_paramter.py for looping over different positions for single wire defects in a square grid. It will return a list where the first element represents the un-altered grid and the rest a triangle of positions in the lower left quadrant."
   ]
  },
  {
   "cell_type": "code",
   "execution_count": 23,
   "id": "fee82329",
   "metadata": {},
   "outputs": [
    {
     "data": {
      "text/plain": [
       "[['-', '-'], [0, 0], [0, 1], [1, 1], [0, 2], [1, 2], [2, 2]]"
      ]
     },
     "metadata": {},
     "output_type": "display_data"
    }
   ],
   "source": [
    "P[\"parameter_set\"] = fu.get_defects_positions_type_A(**P)\n",
    "display(P[\"parameter_set\"])"
   ]
  },
  {
   "cell_type": "markdown",
   "id": "af5b4d64",
   "metadata": {},
   "source": [
    "### How to setup single-plane defects\n",
    "\n",
    "This will shift a row of wires, not a column. The setup is similar to single-wire defects, except that the key \"defects_position\" now should be the index of the row of wires to be shifted. "
   ]
  },
  {
   "cell_type": "code",
   "execution_count": 24,
   "id": "bca3fd61",
   "metadata": {},
   "outputs": [
    {
     "name": "stdout",
     "output_type": "stream",
     "text": [
      "-----------\n",
      "Initializing structure...\n",
      "time for choose_chunkdivision = 0.000137091 s\n",
      "Working in 2D dimensions.\n",
      "Computational cell is 50 x 50 x 0 with resolution 8\n",
      "     cylinder, center = (-20,-20,0)\n",
      "          radius 1, height 1e+20, axis (0, 0, 1)\n",
      "          dielectric constant epsilon diagonal = (-1e+20,-1e+20,-1e+20)\n",
      "     cylinder, center = (-18,-10,0)\n",
      "          radius 1, height 1e+20, axis (0, 0, 1)\n",
      "          dielectric constant epsilon diagonal = (-1e+20,-1e+20,-1e+20)\n",
      "     cylinder, center = (-20,0,0)\n",
      "          radius 1, height 1e+20, axis (0, 0, 1)\n",
      "          dielectric constant epsilon diagonal = (-1e+20,-1e+20,-1e+20)\n",
      "     cylinder, center = (-20,10,0)\n",
      "          radius 1, height 1e+20, axis (0, 0, 1)\n",
      "          dielectric constant epsilon diagonal = (-1e+20,-1e+20,-1e+20)\n",
      "     cylinder, center = (-20,20,0)\n",
      "          radius 1, height 1e+20, axis (0, 0, 1)\n",
      "          dielectric constant epsilon diagonal = (-1e+20,-1e+20,-1e+20)\n",
      "     cylinder, center = (-10,-20,0)\n",
      "          radius 1, height 1e+20, axis (0, 0, 1)\n",
      "          dielectric constant epsilon diagonal = (-1e+20,-1e+20,-1e+20)\n",
      "     cylinder, center = (-8,-10,0)\n",
      "          radius 1, height 1e+20, axis (0, 0, 1)\n",
      "          dielectric constant epsilon diagonal = (-1e+20,-1e+20,-1e+20)\n",
      "     cylinder, center = (-10,0,0)\n",
      "          radius 1, height 1e+20, axis (0, 0, 1)\n",
      "          dielectric constant epsilon diagonal = (-1e+20,-1e+20,-1e+20)\n",
      "     cylinder, center = (-10,10,0)\n",
      "          radius 1, height 1e+20, axis (0, 0, 1)\n",
      "          dielectric constant epsilon diagonal = (-1e+20,-1e+20,-1e+20)\n",
      "     cylinder, center = (-10,20,0)\n",
      "          radius 1, height 1e+20, axis (0, 0, 1)\n",
      "          dielectric constant epsilon diagonal = (-1e+20,-1e+20,-1e+20)\n",
      "     ...(+ 15 objects not shown)...\n",
      "time for set_epsilon = 0.273512 s\n",
      "-----------\n",
      "Meep: using output directory 'out'\n"
     ]
    },
    {
     "data": {
      "image/png": "[encoded data removed]",
      "text/plain": [
       "<Figure size 432x288 with 1 Axes>"
      ]
     },
     "metadata": {
      "needs_background": "light"
     },
     "output_type": "display_data"
    }
   ],
   "source": [
    "P[\"defects_type\"] = \"single_plane\"\n",
    "P[\"defects_axis\"] = \"x\" # \"y\" or \"xy\"\n",
    "P[\"defects_size\"] = 0.2*P[\"wire_spacing_x\"]\n",
    "\n",
    "P[\"defects_position\"] = 1\n",
    "P[\"defects\"] = fu.get_defects(**P)\n",
    "\n",
    "fu.get_plot_geometry_and_harminv_sampling(**P)"
   ]
  },
  {
   "cell_type": "markdown",
   "id": "5bd3bacd",
   "metadata": {},
   "source": [
    "### How to setup random defects\n",
    "\n",
    "Specify defects type \"all_random\" and create an array with some random defects. Then you can either feed funcs with the defects array directly like this"
   ]
  },
  {
   "cell_type": "code",
   "execution_count": 25,
   "id": "93bcb043",
   "metadata": {},
   "outputs": [
    {
     "name": "stdout",
     "output_type": "stream",
     "text": [
      "-----------\n",
      "Initializing structure...\n",
      "time for choose_chunkdivision = 0.000138998 s\n",
      "Working in 2D dimensions.\n",
      "Computational cell is 50 x 50 x 0 with resolution 8\n",
      "     cylinder, center = (-20.7379,-18.6409,0)\n",
      "          radius 1, height 1e+20, axis (0, 0, 1)\n",
      "          dielectric constant epsilon diagonal = (-1e+20,-1e+20,-1e+20)\n",
      "     cylinder, center = (-18.1939,-10.0901,0)\n",
      "          radius 1, height 1e+20, axis (0, 0, 1)\n",
      "          dielectric constant epsilon diagonal = (-1e+20,-1e+20,-1e+20)\n",
      "     cylinder, center = (-20.6361,-2.79621,0)\n",
      "          radius 1, height 1e+20, axis (0, 0, 1)\n",
      "          dielectric constant epsilon diagonal = (-1e+20,-1e+20,-1e+20)\n",
      "     cylinder, center = (-16.2867,7.21198,0)\n",
      "          radius 1, height 1e+20, axis (0, 0, 1)\n",
      "          dielectric constant epsilon diagonal = (-1e+20,-1e+20,-1e+20)\n",
      "     cylinder, center = (-17.7614,19.5961,0)\n",
      "          radius 1, height 1e+20, axis (0, 0, 1)\n",
      "          dielectric constant epsilon diagonal = (-1e+20,-1e+20,-1e+20)\n",
      "     cylinder, center = (-8.41355,-21.4344,0)\n",
      "          radius 1, height 1e+20, axis (0, 0, 1)\n",
      "          dielectric constant epsilon diagonal = (-1e+20,-1e+20,-1e+20)\n",
      "     cylinder, center = (-11.448,-9.39198,0)\n",
      "          radius 1, height 1e+20, axis (0, 0, 1)\n",
      "          dielectric constant epsilon diagonal = (-1e+20,-1e+20,-1e+20)\n",
      "     cylinder, center = (-12.9529,1.04305,0)\n",
      "          radius 1, height 1e+20, axis (0, 0, 1)\n",
      "          dielectric constant epsilon diagonal = (-1e+20,-1e+20,-1e+20)\n",
      "     cylinder, center = (-10.0616,11.8281,0)\n",
      "          radius 1, height 1e+20, axis (0, 0, 1)\n",
      "          dielectric constant epsilon diagonal = (-1e+20,-1e+20,-1e+20)\n",
      "     cylinder, center = (-9.64129,17.2497,0)\n",
      "          radius 1, height 1e+20, axis (0, 0, 1)\n",
      "          dielectric constant epsilon diagonal = (-1e+20,-1e+20,-1e+20)\n",
      "     ...(+ 15 objects not shown)...\n",
      "time for set_epsilon = 0.277153 s\n",
      "-----------\n",
      "Meep: using output directory 'out'\n"
     ]
    },
    {
     "data": {
      "image/png": "[encoded data removed]",
      "text/plain": [
       "<Figure size 432x288 with 1 Axes>"
      ]
     },
     "metadata": {
      "needs_background": "light"
     },
     "output_type": "display_data"
    }
   ],
   "source": [
    "P[\"defects_type\"] = \"all_random\"\n",
    "\n",
    "P[\"defects\"] = np.random.normal(loc=0, scale=0.2*P[\"wire_spacing_x\"],\n",
    "                         size=(P[\"wire_number_x\"],P[\"wire_number_y\"], 2))\n",
    "\n",
    "fu.get_plot_geometry_and_harminv_sampling(**P)"
   ]
  },
  {
   "cell_type": "markdown",
   "id": "313be475",
   "metadata": {},
   "source": [
    "or save it and later access it through `fu.get_defects(**P)`. If so, you need to modify the load path in the funcs module.\n",
    "\n",
    "### How to setup plane misalignment\n",
    "\n",
    "This will rotate all even or odd columns around the center of the grid. Here the key \"defects_size\" should be an angle in radians."
   ]
  },
  {
   "cell_type": "code",
   "execution_count": 26,
   "id": "679b5959",
   "metadata": {},
   "outputs": [
    {
     "name": "stdout",
     "output_type": "stream",
     "text": [
      "-----------\n",
      "Initializing structure...\n",
      "time for choose_chunkdivision = 0.000140905 s\n",
      "Working in 2D dimensions.\n",
      "Computational cell is 50 x 50 x 0 with resolution 8\n",
      "     cylinder, center = (-18.3377,-21.5343,0)\n",
      "          radius 1, height 1e+20, axis (0, 0, 1)\n",
      "          dielectric constant epsilon diagonal = (-1e+20,-1e+20,-1e+20)\n",
      "     cylinder, center = (-19.1369,-11.5663,0)\n",
      "          radius 1, height 1e+20, axis (0, 0, 1)\n",
      "          dielectric constant epsilon diagonal = (-1e+20,-1e+20,-1e+20)\n",
      "     cylinder, center = (-19.936,-1.59829,0)\n",
      "          radius 1, height 1e+20, axis (0, 0, 1)\n",
      "          dielectric constant epsilon diagonal = (-1e+20,-1e+20,-1e+20)\n",
      "     cylinder, center = (-20.7352,8.36972,0)\n",
      "          radius 1, height 1e+20, axis (0, 0, 1)\n",
      "          dielectric constant epsilon diagonal = (-1e+20,-1e+20,-1e+20)\n",
      "     cylinder, center = (-21.5343,18.3377,0)\n",
      "          radius 1, height 1e+20, axis (0, 0, 1)\n",
      "          dielectric constant epsilon diagonal = (-1e+20,-1e+20,-1e+20)\n",
      "     cylinder, center = (-10,-20,0)\n",
      "          radius 1, height 1e+20, axis (0, 0, 1)\n",
      "          dielectric constant epsilon diagonal = (-1e+20,-1e+20,-1e+20)\n",
      "     cylinder, center = (-10,-10,0)\n",
      "          radius 1, height 1e+20, axis (0, 0, 1)\n",
      "          dielectric constant epsilon diagonal = (-1e+20,-1e+20,-1e+20)\n",
      "     cylinder, center = (-10,0,0)\n",
      "          radius 1, height 1e+20, axis (0, 0, 1)\n",
      "          dielectric constant epsilon diagonal = (-1e+20,-1e+20,-1e+20)\n",
      "     cylinder, center = (-10,10,0)\n",
      "          radius 1, height 1e+20, axis (0, 0, 1)\n",
      "          dielectric constant epsilon diagonal = (-1e+20,-1e+20,-1e+20)\n",
      "     cylinder, center = (-10,20,0)\n",
      "          radius 1, height 1e+20, axis (0, 0, 1)\n",
      "          dielectric constant epsilon diagonal = (-1e+20,-1e+20,-1e+20)\n",
      "     ...(+ 15 objects not shown)...\n",
      "time for set_epsilon = 0.271049 s\n",
      "-----------\n",
      "Meep: using output directory 'out'\n"
     ]
    },
    {
     "data": {
      "image/png": "[encoded data removed]",
      "text/plain": [
       "<Figure size 432x288 with 1 Axes>"
      ]
     },
     "metadata": {
      "needs_background": "light"
     },
     "output_type": "display_data"
    }
   ],
   "source": [
    "P[\"defects_type\"] = \"misaligned_planes\"\n",
    "P[\"misaligned_planes\"] = \"even\"  # or \"odd\"\n",
    "P[\"defects_size\"] = 0.08  # Angle in radians\n",
    "P[\"defects\"] = fu.get_defects(**P)\n",
    "\n",
    "fu.get_plot_geometry_and_harminv_sampling(**P)"
   ]
  },
  {
   "cell_type": "markdown",
   "id": "67231f7d",
   "metadata": {},
   "source": [
    "Lastly, you can also combine different types of defects. For example, you can combine tilted planes with random wire displacement like this"
   ]
  },
  {
   "cell_type": "code",
   "execution_count": 27,
   "id": "1f1e22f8",
   "metadata": {
    "scrolled": true
   },
   "outputs": [
    {
     "name": "stdout",
     "output_type": "stream",
     "text": [
      "-----------\n",
      "Initializing structure...\n",
      "time for choose_chunkdivision = 0.000142097 s\n",
      "Working in 2D dimensions.\n",
      "Computational cell is 50 x 50 x 0 with resolution 8\n",
      "     cylinder, center = (-19.1597,-20.7617,0)\n",
      "          radius 1, height 1e+20, axis (0, 0, 1)\n",
      "          dielectric constant epsilon diagonal = (-1e+20,-1e+20,-1e+20)\n",
      "     cylinder, center = (-20.2446,-11.7169,0)\n",
      "          radius 1, height 1e+20, axis (0, 0, 1)\n",
      "          dielectric constant epsilon diagonal = (-1e+20,-1e+20,-1e+20)\n",
      "     cylinder, center = (-19.2068,-1.40349,0)\n",
      "          radius 1, height 1e+20, axis (0, 0, 1)\n",
      "          dielectric constant epsilon diagonal = (-1e+20,-1e+20,-1e+20)\n",
      "     cylinder, center = (-20.7263,9.11071,0)\n",
      "          radius 1, height 1e+20, axis (0, 0, 1)\n",
      "          dielectric constant epsilon diagonal = (-1e+20,-1e+20,-1e+20)\n",
      "     cylinder, center = (-21.6031,18.7703,0)\n",
      "          radius 1, height 1e+20, axis (0, 0, 1)\n",
      "          dielectric constant epsilon diagonal = (-1e+20,-1e+20,-1e+20)\n",
      "     cylinder, center = (-10.3853,-20.1608,0)\n",
      "          radius 1, height 1e+20, axis (0, 0, 1)\n",
      "          dielectric constant epsilon diagonal = (-1e+20,-1e+20,-1e+20)\n",
      "     cylinder, center = (-10.109,-9.2084,0)\n",
      "          radius 1, height 1e+20, axis (0, 0, 1)\n",
      "          dielectric constant epsilon diagonal = (-1e+20,-1e+20,-1e+20)\n",
      "     cylinder, center = (-10.4856,-0.814513,0)\n",
      "          radius 1, height 1e+20, axis (0, 0, 1)\n",
      "          dielectric constant epsilon diagonal = (-1e+20,-1e+20,-1e+20)\n",
      "     cylinder, center = (-9.85059,9.87597,0)\n",
      "          radius 1, height 1e+20, axis (0, 0, 1)\n",
      "          dielectric constant epsilon diagonal = (-1e+20,-1e+20,-1e+20)\n",
      "     cylinder, center = (-9.65137,20.6657,0)\n",
      "          radius 1, height 1e+20, axis (0, 0, 1)\n",
      "          dielectric constant epsilon diagonal = (-1e+20,-1e+20,-1e+20)\n",
      "     ...(+ 15 objects not shown)...\n",
      "time for set_epsilon = 0.286704 s\n",
      "-----------\n",
      "Meep: using output directory 'out'\n"
     ]
    },
    {
     "data": {
      "image/png": "[encoded data removed]",
      "text/plain": [
       "<Figure size 432x288 with 1 Axes>"
      ]
     },
     "metadata": {
      "needs_background": "light"
     },
     "output_type": "display_data"
    }
   ],
   "source": [
    "defects_random = np.random.normal(loc=0, scale=0.05*P[\"wire_spacing_x\"],\n",
    "                             size=(P[\"wire_number_x\"],P[\"wire_number_y\"], 2))\n",
    "\n",
    "P[\"defects_type\"] = \"misaligned_planes\"\n",
    "P[\"misaligned_planes\"] = \"even\"\n",
    "P[\"defects_size\"] = 0.05\n",
    "\n",
    "P[\"defects\"] = fu.get_defects(**P)+defects_random\n",
    "\n",
    "fu.get_plot_geometry_and_harminv_sampling(**P)"
   ]
  }
 ],
 "metadata": {
  "kernelspec": {
   "display_name": "Python 3 (ipykernel)",
   "language": "python",
   "name": "python3"
  },
  "language_info": {
   "codemirror_mode": {
    "name": "ipython",
    "version": 3
   },
   "file_extension": ".py",
   "mimetype": "text/x-python",
   "name": "python",
   "nbconvert_exporter": "python",
   "pygments_lexer": "ipython3",
   "version": "3.9.7"
  }
 },
 "nbformat": 4,
 "nbformat_minor": 5
}
