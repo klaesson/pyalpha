{
 "cells": [
  {
   "cell_type": "markdown",
   "id": "8aa6f234",
   "metadata": {},
   "source": [
    "# 2D slice of a waveguide, TM-modes\n"
   ]
  },
  {
   "cell_type": "markdown",
   "id": "2ea4091e",
   "metadata": {},
   "source": [
    "To calculate the resonant frequencies of an infinitely long, empty, and uniform rectangular waveguide, we will construct a simple computational cell in Meep and surround it with a perfect electrical conducting (PEC) boundary. We will also take a look at the phase of the electric field and an animation of the time-varying field. Lastly, we will show an example of how of you can write a step function in Meep to look at the maximum value of a periodic field.\n",
    "\n",
    "This particular type of waveguide only supports two different types of modes, commonly referred to as Transverse Magnetic (TM) and Transverse Electric (TE). For a waveguide of dimensions $s_x, s_y,$ the analytical expression for the resonant frequencies of both TM and TE modes is given by\n",
    "\n",
    "$$f_{nm}(s_x, s_y)=\\frac{1}{2}\\sqrt{\\frac{m}{s_x}^2+\\frac{n}{s_y}^2},$$\n",
    "\n",
    "where in the case of TM modes, both $n$ and $m$ are positive non-zero integers.\n"
   ]
  },
  {
   "cell_type": "markdown",
   "id": "599d5ab3",
   "metadata": {},
   "source": [
    "The imports that we will use are"
   ]
  },
  {
   "cell_type": "code",
   "execution_count": 124,
   "id": "161cbd1e",
   "metadata": {},
   "outputs": [],
   "source": [
    "import meep as mp\n",
    "import numpy as np\n",
    "import matplotlib.pyplot as plt\n",
    "from IPython.display import Video\n",
    "from scipy import constants as con"
   ]
  },
  {
   "cell_type": "markdown",
   "id": "ce2a4e5b",
   "metadata": {},
   "source": [
    "Next, let us define a couple of functions that we will make use of later. The first function is the theoretical expression for the TM frequency expressed in meep units. Meep uses dimensionless units where $c=\\mu_0=\\varepsilon_0=1,$ and you can choose which base you wish to define distances in. So if we wish to construct a waveguide where e.g. $s_x$ is in the millimeter range, we can set the base unit accordingly. The other two functions are for converting between SI and Meep units. "
   ]
  },
  {
   "cell_type": "code",
   "execution_count": 125,
   "id": "4856bd11",
   "metadata": {},
   "outputs": [],
   "source": [
    "def TM_mode_SI(n, m, s_x, s_y):\n",
    "    \"\"\"Transverse magnetic mode, empty rectangular waveguide with PEC walls.\"\"\"\n",
    "\n",
    "    if n == 0 or m == 0:\n",
    "        raise ValueError(\"Unsupported input parameter\")\n",
    "    else:\n",
    "        mode = 0.5*np.sqrt((n/s_x)**2+(m/s_y)**2)\n",
    "        return mode\n",
    "\n",
    "\n",
    "def frequency_SI_to_MP(x, meep_unit):\n",
    "\n",
    "    return (x*meep_unit)/con.c\n",
    "\n",
    "\n",
    "def frequency_MP_to_SI(x, meep_unit):\n",
    "\n",
    "    return (x*con.c)/meep_unit\n",
    "\n",
    "    \n",
    "meep_unit = 1e-3"
   ]
  },
  {
   "cell_type": "markdown",
   "id": "98c9f373",
   "metadata": {},
   "source": [
    "We also need to set the resolution (number of pixels per unit distance) of the simulation. One should keep in mind that increasing the resolution also increases the number of time steps in a simulation. For this particular setup, we will not be concerned with finer details such as the e.g. the skin depth of a conductor, so a low resolution should be enough.   "
   ]
  },
  {
   "cell_type": "code",
   "execution_count": 126,
   "id": "b9d4ebb1",
   "metadata": {},
   "outputs": [],
   "source": [
    "resolution = 20"
   ]
  },
  {
   "cell_type": "markdown",
   "id": "11108793",
   "metadata": {},
   "source": [
    "Next, we set the size of the computational cell, which in Meep is done through a geometric object Vector3. Since the walls of our waveguide will be implemented through a PEC boundary, the size of the waveguide and the cell will be the same. "
   ]
  },
  {
   "cell_type": "code",
   "execution_count": 127,
   "id": "226fd474",
   "metadata": {},
   "outputs": [],
   "source": [
    "s_x = 1.2\n",
    "s_y = 1.\n",
    "cell_size = mp.Vector3(s_x, s_y, 0)"
   ]
  },
  {
   "cell_type": "markdown",
   "id": "4a9ba28e",
   "metadata": {},
   "source": [
    "To extract the resonant modes we need to excite the electric field in the z-direction, we can do this by placing a Gaussian current source inside the waveguide. Current sources in Meep are labeled by field components, the i:te components of field A is defined as Ai, so we specify the field component of our source as mp.Ez.\n",
    "\n",
    "The source will excite modes within the frequency range of $f\\pm\\frac{df}{2}$. (Or is it not half?!) Keep in mind that where we put the source may affect which types of modes (w.r.p. their symmetry) that are excited, and it may also prevent us from reducing the computational time by invoking symmetries."
   ]
  },
  {
   "cell_type": "code",
   "execution_count": 128,
   "id": "610cd2c9",
   "metadata": {},
   "outputs": [],
   "source": [
    "source_frequency = 1.47\n",
    "source_frequency_width = 0.2*source_frequency\n",
    "source = mp.Source(mp.GaussianSource(frequency=source_frequency,\n",
    "                                     fwidth=source_frequency_width),\n",
    "                                     component=mp.Ez,\n",
    "                                     center=0.05*mp.Vector3(s_x, s_y),\n",
    "                                     size=mp.Vector3())"
   ]
  },
  {
   "cell_type": "markdown",
   "id": "f3d4890e",
   "metadata": {},
   "source": [
    "The actual computations that we will run are controlled by the simulation object, our setup is pretty simple so we only specify the size of the computational cell, our source and the resolution. Since we have not specified a k_point, the default boundary condition is a PEC."
   ]
  },
  {
   "cell_type": "code",
   "execution_count": 129,
   "id": "47867d1e",
   "metadata": {},
   "outputs": [],
   "source": [
    "sim = mp.Simulation(cell_size=cell_size, sources=[source], resolution=resolution)"
   ]
  },
  {
   "cell_type": "markdown",
   "id": "9b699de1",
   "metadata": {},
   "source": [
    "To compute the resonant frequencies, we will use the step function [Harminv](https://github.com/NanoComp/harminv). It seems to work best when you are computing just a few modes within a narrow frequency range, so it's good if you have a pretty good idea of what you are looking for. To use it, we need to specify which field component (c) to analyze, in which point (pt) to gather information for analysis, and in which frequency range it should look for resonant modes. There are a couple of things that could be worth mentioning:\n",
    "> * On one hand the computational error becomes less if you use a narrow frequency range. On the other hand, this will increase your simulation time.\n",
    "> * Where you choose to sample may matter. If you are unlucky and hit a node, you might not find it.\n",
    "\n",
    "Later on, we will add the step function h_ to the simulation."
   ]
  },
  {
   "cell_type": "code",
   "execution_count": 130,
   "id": "872e6837",
   "metadata": {},
   "outputs": [],
   "source": [
    "sample_point = 0.3*mp.Vector3(s_x, s_y)\n",
    "h_ = mp.Harminv(c=mp.Ez, pt=sample_point, fcen=source_frequency, df=source_frequency_width)"
   ]
  },
  {
   "cell_type": "markdown",
   "id": "73b008e3",
   "metadata": {},
   "source": [
    "To see the geometry of the simulation, you can use the command sim.plot2D(). Any sources will be shown in red."
   ]
  },
  {
   "cell_type": "code",
   "execution_count": 131,
   "id": "e98b32ec",
   "metadata": {},
   "outputs": [
    {
     "name": "stdout",
     "output_type": "stream",
     "text": [
      "-----------\n",
      "Initializing structure...\n",
      "time for choose_chunkdivision = 5.96046e-06 s\n",
      "Working in 2D dimensions.\n",
      "Computational cell is 1.2 x 1 x 0 with resolution 20\n",
      "time for set_epsilon = 0.000861883 s\n",
      "-----------\n"
     ]
    },
    {
     "data": {
      "image/png": "[encoded data removed]",
      "text/plain": [
       "<Figure size 432x288 with 1 Axes>"
      ]
     },
     "metadata": {
      "needs_background": "light"
     },
     "output_type": "display_data"
    }
   ],
   "source": [
    "sim.plot2D()\n",
    "plt.scatter(sample_point[0], sample_point[1], color=\"g\")\n",
    "plt.show()"
   ]
  },
  {
   "cell_type": "markdown",
   "id": "1a2f0e60",
   "metadata": {},
   "source": [
    "Now that we've set up the geometry, sources, and which step function to use, we can start the simulation by using the run function. There are some convenient ways to control the run time of your simulation, e.g. you can let it run until a certain condition is met. For now, we will just let it run 100 time steps after the source has been turned off. We also need to make sure that Harminv isn't executed until the sources have been turned off, we do this by wrapping it in mp.after_sources().  \n",
    "\n",
    "Executing the cell below will run the simulation. If you haven't changed any settings, it should finish in a couple of seconds and print three resonant modes that Harminv has found."
   ]
  },
  {
   "cell_type": "code",
   "execution_count": 132,
   "id": "e19278f7",
   "metadata": {},
   "outputs": [
    {
     "data": {
      "application/vnd.jupyter.widget-view+json": {
       "model_id": "c572afafa46645b6a951c8e54cc779a2",
       "version_major": 2,
       "version_minor": 0
      },
      "text/plain": [
       "FloatProgress(value=0.0, description='0% done ', max=134.01360702514648)"
      ]
     },
     "metadata": {},
     "output_type": "display_data"
    },
    {
     "name": "stdout",
     "output_type": "stream",
     "text": [
      "harminv0:, frequency, imag. freq., Q, |amp|, amplitude, error\n",
      "harminv0:, 1.3411378063757715, 3.3841139421932276e-06, -198151.98738648064, 0.070349145544566, 0.03789611459689653+0.05926961090904358i, 5.75406189062416e-07+0.0i\n",
      "harminv0:, 1.5471892195173855, -3.1032085398954533e-09, 249288631.36756998, 0.9457514693044591, -0.5542629232341324-0.7663148527984418i, 1.1331812984242064e-07+0.0i\n",
      "harminv0:, 1.5961252524642253, 1.487235965544211e-05, -53660.79389695802, 0.049578702868221546, 0.02006382163234733-0.04533752132175678i, 2.61591595376731e-06+0.0i\n",
      "run 0 finished at t = 134.025 (5361 timesteps)\n"
     ]
    }
   ],
   "source": [
    "until_after_sources = 100\n",
    "sim.run(mp.after_sources(h_), until_after_sources=until_after_sources)"
   ]
  },
  {
   "cell_type": "markdown",
   "id": "e0dd5eff",
   "metadata": {},
   "source": [
    "Lets extract the frequencies from Harminv and compare them to the analytical expression."
   ]
  },
  {
   "cell_type": "code",
   "execution_count": 133,
   "id": "c13faea9",
   "metadata": {},
   "outputs": [
    {
     "data": {
      "image/png": "[encoded data removed]",
      "text/plain": [
       "<Figure size 432x288 with 1 Axes>"
      ]
     },
     "metadata": {
      "needs_background": "light"
     },
     "output_type": "display_data"
    }
   ],
   "source": [
    "plt.title(\"Comparison of modes found by MEEP with theoretical values\")\n",
    "freqs = frequency_MP_to_SI(np.asarray([m.freq for m in h_.modes]), meep_unit)\n",
    "plt.scatter([0, 0, 0], freqs*1e-9, color=\"r\", marker=\"x\", label=\"Harminv\")\n",
    "\n",
    "freqs_theory = [(3, 1), (1, 3), (3, 2)]\n",
    "\n",
    "plt.scatter(0, frequency_MP_to_SI(source_frequency, meep_unit)*1e-9, color=\"r\",\n",
    "            label=\"source frequency\")\n",
    "for s in [-1, 1]:\n",
    "    plt.scatter(0, frequency_MP_to_SI(source_frequency+s*0.5*source_frequency_width, meep_unit)*1e-9,\n",
    "                color=\"r\", marker=\"_\", label=\"Frequency range of the source\")\n",
    "for mode in freqs_theory:\n",
    "    plt.scatter(0, frequency_MP_to_SI(TM_mode_SI(mode[0], mode[1], s_x, s_y)*1e-9, meep_unit),\n",
    "                alpha=0.5, label=str(mode))\n",
    "\n",
    "plt.ylabel(\"Frequency (GHz)\")\n",
    "plt.legend(loc='center left', bbox_to_anchor=(1, 0.5))\n",
    "plt.show()"
   ]
  },
  {
   "cell_type": "markdown",
   "id": "1d2d09b9",
   "metadata": {},
   "source": [
    "We can also take a look at the field distribution of a specific mode, e.g. the $TM_{13}$ mode. We change the width of the source and make a new simulation covering a narrower frequency range. By default the simulation will try to use real fields, but this time we will want to take a look at the phase of $E_z,$ so we force specify that it should complex fields."
   ]
  },
  {
   "cell_type": "code",
   "execution_count": 134,
   "id": "a6fd691b",
   "metadata": {},
   "outputs": [
    {
     "name": "stdout",
     "output_type": "stream",
     "text": [
      "-----------\n",
      "Initializing structure...\n",
      "time for choose_chunkdivision = 5.00679e-06 s\n",
      "Working in 2D dimensions.\n",
      "Computational cell is 1.2 x 1 x 0 with resolution 20\n",
      "time for set_epsilon = 0.000473022 s\n",
      "-----------\n",
      "Meep: using complex fields.\n"
     ]
    },
    {
     "data": {
      "application/vnd.jupyter.widget-view+json": {
       "model_id": "c31f3ff724d94a2892c63504e445b147",
       "version_major": 2,
       "version_minor": 0
      },
      "text/plain": [
       "FloatProgress(value=0.0, description='0% done ', max=746.3333740234375)"
      ]
     },
     "metadata": {},
     "output_type": "display_data"
    },
    {
     "name": "stdout",
     "output_type": "stream",
     "text": [
      "harminv0:, frequency, imag. freq., Q, |amp|, amplitude, error\n",
      "harminv0:, 1.5471884540775402, 5.686690412450699e-11, -13603593143.474588, 133.13730244453112, 127.88720000188611-37.018986721466774i, 1.5133811685375864e-13+0.0i\n",
      "run 0 finished at t = 746.35 (29854 timesteps)\n"
     ]
    }
   ],
   "source": [
    "sim.reset_meep()\n",
    "\n",
    "source_frequency = [m.freq for m in h_.modes][1]\n",
    "source_frequency_width = 0.01*source_frequency\n",
    "source = mp.Source(mp.GaussianSource(frequency=source_frequency,\n",
    "                                     fwidth=source_frequency_width),\n",
    "                                     component=mp.Ez,\n",
    "                                     center=0.05*mp.Vector3(s_x, s_y),\n",
    "                                     size=mp.Vector3())\n",
    "sim = mp.Simulation(cell_size=cell_size, sources=[source], resolution=resolution,\n",
    "                    force_complex_fields=True)\n",
    "\n",
    "h_ = mp.Harminv(c=mp.Ez, pt=sample_point, fcen=source_frequency, df=source_frequency_width)\n",
    "sim.run(mp.after_sources(h_), until_after_sources=until_after_sources)\n",
    "frequency = [m.freq for m in h_.modes][0]"
   ]
  },
  {
   "cell_type": "raw",
   "id": "e326ce74",
   "metadata": {},
   "source": [
    "Now we may access the values of the various fields, at the current time step, by using sim.get_array(), and to get the phase we compute the angle of the complex field value. Since we singled out the $TM_{13}$ mode, there should only be 2 nodal lines in one direction.   "
   ]
  },
  {
   "cell_type": "code",
   "execution_count": 135,
   "id": "b12c2232",
   "metadata": {},
   "outputs": [
    {
     "data": {
      "image/png": "[encoded data removed]",
      "text/plain": [
       "<Figure size 432x288 with 1 Axes>"
      ]
     },
     "metadata": {
      "needs_background": "dark"
     },
     "output_type": "display_data"
    }
   ],
   "source": [
    "phase = np.angle(sim.get_array(component=mp.Ez, cmplx=True))\n",
    "\n",
    "plt.title(r\"Phase of $E_z$\")\n",
    "plt.imshow(phase.T, cmap=\"autumn\")\n",
    "plt.xticks(color=\"w\")\n",
    "plt.yticks(color=\"w\")\n",
    "plt.show()"
   ]
  },
  {
   "cell_type": "markdown",
   "id": "d1af3b2e",
   "metadata": {},
   "source": [
    "You can also take a look at the animation of the $E_z$ field, as our walls are perfect conductors we expect that particular field to be zero all along the border. Field components in Meep are constants (i.e. str(mp.Ez)=4), which can come in handy when saving some output. Run the cell below to save and look at a video of the $E_z$ field consisting of $40$ time slices taken during one period. \n",
    "\n",
    "Since our source used the component $E_z,$ the other non-zero fields are $H_x, H_y.$ Change the field variable below if you'd rather take a look at one of those."
   ]
  },
  {
   "cell_type": "code",
   "execution_count": 136,
   "id": "565dbfad",
   "metadata": {},
   "outputs": [
    {
     "data": {
      "application/vnd.jupyter.widget-view+json": {
       "model_id": "884b1f0e081e4b769c03ffb78bb30ad6",
       "version_major": 2,
       "version_minor": 0
      },
      "text/plain": [
       "FloatProgress(value=746.3499755859375, description='0% done ', max=746.9963092612985, min=746.3499755859375)"
      ]
     },
     "metadata": {},
     "output_type": "display_data"
    },
    {
     "name": "stdout",
     "output_type": "stream",
     "text": [
      "Normalizing field data...\n",
      "run 1 finished at t = 747.0 (29880 timesteps)\n",
      "Generating MP4...\n"
     ]
    },
    {
     "data": {
      "text/html": [
       "<video src=\"4.mp4\" controls  >\n",
       "      Your browser does not support the <code>video</code> element.\n",
       "    </video>"
      ],
      "text/plain": [
       "<IPython.core.display.Video object>"
      ]
     },
     "execution_count": 136,
     "metadata": {},
     "output_type": "execute_result"
    }
   ],
   "source": [
    "def animate_field(field, n_slices, time_steps):\n",
    "    \n",
    "    animate = mp.Animate2D(sim, fields=field, f=plt.figure(dpi=150),\n",
    "                           realtime=False, normalize=True)\n",
    "    sim.run(mp.at_every(time_steps/n_slices, animate), until=time_steps)\n",
    "    plt.close()\n",
    "    fps = 5\n",
    "    filename = str(field)+\".mp4\"\n",
    "    animate.to_mp4(fps, filename )\n",
    "\n",
    "field = mp.Ez\n",
    "animate_field(field, 40, 1/frequency)\n",
    "Video(str(field)+\".mp4\")"
   ]
  },
  {
   "cell_type": "markdown",
   "id": "fef2ff54",
   "metadata": {},
   "source": [
    "You can also look at images of the field. For example, if you wanted to output single time slices of the $H_x$ field, you could e.g. use:\n",
    "sim.run(mp.at_every(until/slices, mp.output_png(mp.Hx, \"-Zc dkbluered\")), until=0.25/frequency)\n",
    "\n",
    "If you are more interested in looking at e.g. the maximum field value during some period, you can write a step function."
   ]
  },
  {
   "cell_type": "code",
   "execution_count": 139,
   "id": "38ebe962",
   "metadata": {},
   "outputs": [
    {
     "name": "stdout",
     "output_type": "stream",
     "text": [
      "-----------\n",
      "Initializing structure...\n",
      "time for choose_chunkdivision = 5.00679e-06 s\n",
      "Working in 2D dimensions.\n",
      "Computational cell is 1.2 x 1 x 0 with resolution 20\n",
      "time for set_epsilon = 0.00050211 s\n",
      "-----------\n"
     ]
    },
    {
     "data": {
      "application/vnd.jupyter.widget-view+json": {
       "model_id": "639daece9bb6465f84cfffd0dcf62746",
       "version_major": 2,
       "version_minor": 0
      },
      "text/plain": [
       "FloatProgress(value=0.0, description='0% done ', max=746.3333740234375)"
      ]
     },
     "metadata": {},
     "output_type": "display_data"
    },
    {
     "name": "stdout",
     "output_type": "stream",
     "text": [
      "harminv0:, frequency, imag. freq., Q, |amp|, amplitude, error\n",
      "harminv0:, 1.54719225925973, 1.006937422411386e-05, -76826.63414944678, 66.35840508060545, 63.76353883311071-18.375228986875413i, 1.6742544767308027e-06+0.0i\n",
      "run 0 finished at t = 746.35 (29854 timesteps)\n"
     ]
    },
    {
     "data": {
      "application/vnd.jupyter.widget-view+json": {
       "model_id": "23403b6ca49c44f2bf0c62cde90833db",
       "version_major": 2,
       "version_minor": 0
      },
      "text/plain": [
       "FloatProgress(value=746.3499755859375, description='0% done ', max=746.6731416288178, min=746.3499755859375)"
      ]
     },
     "metadata": {},
     "output_type": "display_data"
    },
    {
     "name": "stdout",
     "output_type": "stream",
     "text": [
      "run 1 finished at t = 746.6750000000001 (29867 timesteps)\n"
     ]
    },
    {
     "data": {
      "image/png": "[encoded data removed]",
      "text/plain": [
       "<Figure size 432x288 with 2 Axes>"
      ]
     },
     "metadata": {
      "needs_background": "light"
     },
     "output_type": "display_data"
    }
   ],
   "source": [
    "def get_max_field_slice_2D(sim, frequency):\n",
    "\n",
    "    def get_max_field_slice(sim):\n",
    "\n",
    "        field_new = sim.get_efield_z()\n",
    "        field_new_set = [field_new, np.max(np.abs(field_new))]\n",
    "        if field_old_set[1] < field_new_set[1]:\n",
    "            field_old_set[0] = field_new_set[0]\n",
    "            field_old_set[1] = field_new_set[1]\n",
    "\n",
    "    until = 0.5/frequency\n",
    "    slices = 10\n",
    "    field_old = sim.get_efield_z()\n",
    "    field_old_set = [field_old, np.max(np.abs(field_old))]\n",
    "    eps_data = sim.get_array(size=cell_size,\n",
    "                             center=mp.Vector3(0, 0, 0),\n",
    "                             component=mp.Dielectric)\n",
    "\n",
    "    sim.run(mp.at_every(until/slices, get_max_field_slice), until=until)\n",
    "    max_field = field_old_set[0]\n",
    "    \n",
    "    freq_SIG = str(np.round(frequency_MP_to_SI(frequency, meep_unit)*1e-9, 2))\n",
    "    sim.filename_prefix = freq_SIG.replace(\".\", \"_\")\n",
    "    \n",
    "    vmax, vmin = colorbar_shift_vmax_vmin(max_field)\n",
    "    plt.figure()\n",
    "    plt.title(r\"Max $|E_z|$ slice for f=\"+freq_SIG+\" GHz\")\n",
    "    plt.imshow(eps_data.transpose(), interpolation=\"spline36\",\n",
    "               cmap=\"binary\")\n",
    "    plt.imshow(max_field.transpose(), interpolation=\"spline36\",\n",
    "               cmap=\"seismic\", alpha=0.9, vmin=vmin, vmax=vmax)\n",
    "    plt.colorbar()\n",
    "    plt.axis(\"off\")\n",
    "    filename = \"max_Ez_field_slice\"+sim.get_filename_prefix() \n",
    "    plt.savefig(filename+\".png\", bbox_inches='tight')\n",
    "    plt.show()\n",
    "\n",
    "    return sim\n",
    "\n",
    "\n",
    "def colorbar_shift_vmax_vmin(x):\n",
    "\n",
    "    max_ = np.max(x)\n",
    "    min_ = np.min(x)\n",
    "    if max_ > abs(min_):\n",
    "        v_max = max_\n",
    "        v_min = -max_\n",
    "    else:\n",
    "        v_max = -min_\n",
    "        v_min = min_\n",
    "\n",
    "    return v_max, v_min\n",
    "\n",
    "\n",
    "sim.reset_meep()\n",
    "sim = mp.Simulation(cell_size=cell_size, sources=[source], resolution=resolution,\n",
    "                    force_complex_fields=False)\n",
    "h_ = mp.Harminv(c=mp.Ez, pt=sample_point, fcen=source_frequency, df=source_frequency_width)\n",
    "\n",
    "sim.run(mp.after_sources(h_), until_after_sources=until_after_sources)\n",
    "frequency = [m.freq for m in h_.modes][0]\n",
    "sim = get_max_field_slice_2D(sim, frequency)"
   ]
  },
  {
   "cell_type": "markdown",
   "id": "34da72df",
   "metadata": {},
   "source": [
    " "
   ]
  }
 ],
 "metadata": {
  "kernelspec": {
   "display_name": "Python 3 (ipykernel)",
   "language": "python",
   "name": "python3"
  },
  "language_info": {
   "codemirror_mode": {
    "name": "ipython",
    "version": 3
   },
   "file_extension": ".py",
   "mimetype": "text/x-python",
   "name": "python",
   "nbconvert_exporter": "python",
   "pygments_lexer": "ipython3",
   "version": "3.9.7"
  }
 },
 "nbformat": 4,
 "nbformat_minor": 5
}
